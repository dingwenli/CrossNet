{
 "cells": [
  {
   "cell_type": "code",
   "execution_count": 13,
   "metadata": {},
   "outputs": [
    {
     "name": "stdout",
     "output_type": "stream",
     "text": [
      "Total params is 5811\n",
      "loss: tensor(2.2629, device='cuda:0', grad_fn=<AddBackward0>)\n"
     ]
    }
   ],
   "source": [
    "# a demo of training crossnet\n",
    "import torch\n",
    "import torch.nn as nn\n",
    "import torch.optim as optim\n",
    "from sklearn import metrics\n",
    "import numpy as np\n",
    "from models.crossnet import CrossNet\n",
    "from preprocessing_utils import parse_delta\n",
    "\n",
    "n = 100\n",
    "ts_size = 10\n",
    "static_size = 20\n",
    "ts_len = 10\n",
    "rnn_hid_size = 20\n",
    "impute_weight = 0.3\n",
    "epochs = 100\n",
    "\n",
    "# generate masks, deltas from time-series input\n",
    "ts_data = np.random.rand(n, ts_len, ts_size)\n",
    "ts_masks = np.random.randint(2, size=ts_data.shape)\n",
    "ts_deltas = parse_delta(ts_masks)\n",
    "\n",
    "# generate masks from static input\n",
    "static_data = np.random.rand(n, static_size)\n",
    "static_masks = np.random.randint(2, size=static_data.shape)\n",
    "\n",
    "labels = np.random.randint(2, size=(n,))\n",
    "\n",
    "model = CrossNet(static_size, ts_size, rnn_hid_size, ts_len, impute_weight)\n",
    "\n",
    "if torch.cuda.is_available():\n",
    "    model = model.cuda()\n",
    "\n",
    "optimizer = optim.Adam(model.parameters(), lr=1e-3)\n",
    "\n",
    "total_params = sum(p.numel() for p in model.parameters() if p.requires_grad)\n",
    "print('Total params is {}'.format(total_params))\n",
    "\n",
    "ts_data, ts_masks, ts_deltas, static_data, static_masks, labels = torch.FloatTensor(ts_data).cuda(), \\\n",
    "torch.FloatTensor(ts_masks).cuda(), torch.FloatTensor(ts_deltas).cuda(), torch.FloatTensor(static_data).cuda(), \\\n",
    "torch.FloatTensor(static_masks).cuda(), torch.FloatTensor(labels).cuda()\n",
    "\n",
    "for epoch in range(epochs):\n",
    "    model.train()\n",
    "    ret = model.run_on_batch(ts_data, ts_masks, ts_deltas, static_data, static_masks, labels, optimizer, epoch)\n",
    "print('loss:', ret['loss'])"
   ]
  },
  {
   "cell_type": "code",
   "execution_count": 14,
   "metadata": {},
   "outputs": [
    {
     "name": "stdout",
     "output_type": "stream",
     "text": [
      "Total params is 11622\n",
      "loss: tensor(4.4266, device='cuda:0', grad_fn=<AddBackward0>)\n"
     ]
    }
   ],
   "source": [
    "# a demo of training bi-directional version of crossnet\n",
    "import torch\n",
    "import torch.nn as nn\n",
    "import torch.optim as optim\n",
    "from sklearn import metrics\n",
    "import numpy as np\n",
    "from models.bicrossnet import BiCrossNet\n",
    "from preprocessing_utils import parse_delta\n",
    "\n",
    "n = 100\n",
    "ts_size = 10\n",
    "static_size = 20\n",
    "ts_len = 10\n",
    "rnn_hid_size = 20\n",
    "impute_weight = 0.3\n",
    "epochs = 100\n",
    "\n",
    "# generate masks, deltas from time-series input\n",
    "ts_data = np.random.rand(n, ts_len, ts_size)\n",
    "ts_masks = np.random.randint(2, size=ts_data.shape)\n",
    "ts_deltas = parse_delta(ts_masks)\n",
    "\n",
    "# generate reverse input for the bi-directional version\n",
    "b_ts_data = np.array(ts_data[::-1,:,:])\n",
    "b_ts_masks = np.array(ts_masks[::-1,:,:])\n",
    "b_ts_deltas = parse_delta(b_ts_masks)\n",
    "\n",
    "# generate masks from static input\n",
    "static_data = np.random.rand(n, static_size)\n",
    "static_masks = np.random.randint(2, size=static_data.shape)\n",
    "\n",
    "labels = np.random.randint(2, size=(n,))\n",
    "\n",
    "model = BiCrossNet(static_size, ts_size, rnn_hid_size, ts_len, impute_weight)\n",
    "\n",
    "if torch.cuda.is_available():\n",
    "    model = model.cuda()\n",
    "\n",
    "optimizer = optim.Adam(model.parameters(), lr=1e-3)\n",
    "\n",
    "total_params = sum(p.numel() for p in model.parameters() if p.requires_grad)\n",
    "print('Total params is {}'.format(total_params))\n",
    "\n",
    "ts_data, ts_masks, ts_deltas, b_ts_data, b_ts_masks, b_ts_deltas, static_data, static_masks, labels = torch.FloatTensor(ts_data).cuda(), \\\n",
    "torch.FloatTensor(ts_masks).cuda(), torch.FloatTensor(ts_deltas).cuda(), torch.FloatTensor(b_ts_data).cuda(), \\\n",
    "torch.FloatTensor(b_ts_masks).cuda(), torch.FloatTensor(b_ts_deltas).cuda(), torch.FloatTensor(static_data).cuda(), \\\n",
    "torch.FloatTensor(static_masks).cuda(), torch.FloatTensor(labels).cuda()\n",
    "\n",
    "for epoch in range(epochs):\n",
    "    model.train()\n",
    "    ret = model.run_on_batch(ts_data, ts_masks, ts_deltas, b_ts_data, b_ts_masks, b_ts_deltas, static_data, static_masks, labels, optimizer, epoch)\n",
    "print('loss:', ret['loss'])"
   ]
  },
  {
   "cell_type": "code",
   "execution_count": null,
   "metadata": {},
   "outputs": [],
   "source": []
  }
 ],
 "metadata": {
  "kernelspec": {
   "display_name": "Python 3",
   "language": "python",
   "name": "python3"
  },
  "language_info": {
   "codemirror_mode": {
    "name": "ipython",
    "version": 3
   },
   "file_extension": ".py",
   "mimetype": "text/x-python",
   "name": "python",
   "nbconvert_exporter": "python",
   "pygments_lexer": "ipython3",
   "version": "3.7.7"
  }
 },
 "nbformat": 4,
 "nbformat_minor": 4
}
